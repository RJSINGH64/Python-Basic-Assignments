{
 "cells": [
  {
   "cell_type": "markdown",
   "id": "a7f35c15",
   "metadata": {},
   "source": [
    "## *1.What are the two values of the Boolean data type? How do you write them?*\n",
    " \n",
    "**Ans:-** `True` and `False` are two values of the boolen data types. We have to use capital T and F and with the rest of the word in lowercase."
   ]
  },
  {
   "cell_type": "code",
   "execution_count": 3,
   "id": "2732c03e",
   "metadata": {},
   "outputs": [
    {
     "name": "stdout",
     "output_type": "stream",
     "text": [
      "True <class 'bool'>\n",
      "False <class 'bool'>\n"
     ]
    }
   ],
   "source": [
    "s=True\n",
    "a=False\n",
    "print(s,type(s))\n",
    "print(a,type(a))"
   ]
  },
  {
   "cell_type": "markdown",
   "id": "90cc11c6",
   "metadata": {},
   "source": [
    "## *2. What are the three different types of Boolean operators?*\n",
    "\n",
    "**Ans:** *The three differnt types of Boolean operators in python are:*\n",
    "\n",
    "`or and not`"
   ]
  },
  {
   "cell_type": "code",
   "execution_count": 8,
   "id": "fbb01460",
   "metadata": {},
   "outputs": [
    {
     "name": "stdout",
     "output_type": "stream",
     "text": [
      "True\n",
      "True\n",
      "False\n"
     ]
    }
   ],
   "source": [
    "#Examples:-\n",
    "\n",
    "a=10\n",
    "b=20\n",
    "print(a>20 or b>10) # Example of boolean or\n",
    "print(a>5 and b>10) # Example of boolean an\n",
    "print(not(a>1)) # Example of boolean not"
   ]
  },
  {
   "cell_type": "markdown",
   "id": "67bd87a9",
   "metadata": {},
   "source": [
    "## *3. Make a list of each Boolean operator's truth tables (i.e. every possible combination of Boolean values for the operator and what it evaluate ).*\n",
    "\n",
    "**Ans:** \n",
    "  ***The Truth tables for the boolean        tables are as follows:***\n",
    "\n",
    "● Truth Table for `and` operaotor\n",
    "  True and True is True\n",
    "  True and False is False\n",
    "  False and True is False\n",
    "  False and False is False\n",
    "  \n",
    "\n",
    "● Truth Table for `not` operaotor\n",
    "  True not is False False not is True\n",
    "\n",
    "\n",
    "● Truth Table for `or` operaotor\n",
    "  True and True is True\n",
    "  True and False is True\n",
    "  False and True is True\n",
    "  False and False is False\n"
   ]
  },
  {
   "cell_type": "markdown",
   "id": "b8f15754",
   "metadata": {},
   "source": [
    "## *4. What are the values of the following expressions?*\n",
    "\n",
    "(5 > 4) and (3 == 5)\n",
    "\n",
    "not (5 > 4)\n",
    "\n",
    "(5 > 4) or (3 == 5)\n",
    "\n",
    "not ((5 > 4) or (3 == 5))\n",
    "\n",
    "(True and True) and (True == False)\n",
    "\n",
    "(not False) or (not True)\n"
   ]
  },
  {
   "cell_type": "code",
   "execution_count": 10,
   "id": "af0ddc7d",
   "metadata": {},
   "outputs": [
    {
     "name": "stdout",
     "output_type": "stream",
     "text": [
      "False\n",
      "False\n",
      "True\n",
      "False\n",
      "False\n",
      "True\n"
     ]
    }
   ],
   "source": [
    "# Values of Expression:-\n",
    "\n",
    "print((5>4)and(3==5)) # False\n",
    "print(not(5>4)) # False\n",
    "print((5>4)or(3==5)) # True\n",
    "print(not((5>4)or(3==5))) # False\n",
    "print((True and True)and(True==False)) # false False\n",
    "print((not False)or(not True)) # True"
   ]
  },
  {
   "cell_type": "markdown",
   "id": "64a21769",
   "metadata": {},
   "source": [
    "## *5. What are the six comparison operators?*\n",
    "\n",
    "**Ans:** The Six comparision operators available in python are:\n",
    "\n",
    "  `!= `, `< `, `>` , `<=` ,` =>`, `==`"
   ]
  },
  {
   "cell_type": "markdown",
   "id": "d43e65d8",
   "metadata": {},
   "source": [
    "## *6. How do you tell the difference between the equal to and assignment operators?Describe a condition and when you would use one.*\n",
    "\n",
    "\n",
    "**Ans:** *while equal to (`=`)is that assignment operator that stores a value in a variable.*\n",
    "\n",
    "*Double equal to (`==`) is the equal to operator that compares two values and evaluates to a Boolean.*\n"
   ]
  },
  {
   "cell_type": "code",
   "execution_count": 13,
   "id": "3c3d3498",
   "metadata": {},
   "outputs": [
    {
     "name": "stdout",
     "output_type": "stream",
     "text": [
      "False\n"
     ]
    }
   ],
   "source": [
    "# Example :-\n",
    "\n",
    "a=5 # Assigning operator that stores 5 value in a variable a\n",
    "if a==5:#comparing values of a varible value and 5\n",
    "    print(a==2)  "
   ]
  },
  {
   "cell_type": "code",
   "execution_count": 14,
   "id": "1d292125",
   "metadata": {},
   "outputs": [
    {
     "name": "stdout",
     "output_type": "stream",
     "text": [
      "True\n"
     ]
    }
   ],
   "source": [
    "a=5 # Assigning operator that stores 5 value in a variable a\n",
    "if a==5:#comparing values of a varible value and 5\n",
    "    print(a==5)"
   ]
  },
  {
   "cell_type": "markdown",
   "id": "a986adb8",
   "metadata": {},
   "source": [
    "## *7. Identify the three blocks in this code:*\n",
    "\n",
    "spam = 0\n",
    "\n",
    "if spam == 10:\n",
    "\n",
    "print('eggs')\n",
    "\n",
    "if spam > 5:\n",
    "\n",
    "print('bacon')\n",
    "\n",
    "else:\n",
    "\n",
    "print('ham')\n",
    "\n",
    "print('spam')\n",
    "\n",
    "print('spam')\n",
    "\n",
    "\n",
    "**Ans:** *In Python, code block refers to a collection of code that is in the same block or indent. This is most commonly found in classes, functions, and loops.*"
   ]
  },
  {
   "cell_type": "code",
   "execution_count": null,
   "id": "2198d5d1",
   "metadata": {},
   "outputs": [],
   "source": [
    "spam = 0  \n",
    "if spam == 10:  \n",
    "    print('eggs')  # block #1\n",
    "if spam > 5:  \n",
    "    print('bacon')  # block #2\n",
    "else:  \n",
    "    print('ham')  # block #3\n",
    "print('spam')  \n",
    "print('spam')"
   ]
  },
  {
   "cell_type": "markdown",
   "id": "26b317ab",
   "metadata": {},
   "source": [
    "## *8. Write code that prints Hello if 1 is stored in spam, prints Howdy if 2 is stored in spam, and prints Greetings! if anything else is stored in spam.*\n"
   ]
  },
  {
   "cell_type": "code",
   "execution_count": 18,
   "id": "7490c9c4",
   "metadata": {
    "scrolled": true
   },
   "outputs": [
    {
     "name": "stdout",
     "output_type": "stream",
     "text": [
      "Hello\n",
      "Howdy\n",
      "Greetings\n"
     ]
    }
   ],
   "source": [
    "def spamCode(spam):\n",
    "    if spam==1:\n",
    "        print('Hello')\n",
    "    elif spam==2:\n",
    "        print('Howdy')\n",
    "    else:\n",
    "        print('Greetings')\n",
    "        \n",
    "spamCode(1) \n",
    "spamCode(2)\n",
    "spamCode(3)"
   ]
  },
  {
   "cell_type": "markdown",
   "id": "7cfd816e",
   "metadata": {},
   "source": [
    "## *9.If your programme is stuck in an endless loop, what keys you’ll press?*\n",
    "\n",
    "**Ans:** *Press `Ctrl-c` if programme is stuck in an endless loop .*"
   ]
  },
  {
   "cell_type": "markdown",
   "id": "34ca86f2",
   "metadata": {},
   "source": [
    "## *10. How can you tell the difference between break and continue?*\n",
    "\n",
    "**Ans:** The `break`statement will move the execution outside the loop if break condtion is satisfied. \n",
    "Whereas the `continue` statement will move the execution to the start of the loop."
   ]
  },
  {
   "cell_type": "markdown",
   "id": "906c973e",
   "metadata": {},
   "source": [
    "## *11. In a for loop, what is the difference between range(10), range(0, 10), and range(0, 10, 1)?*\n",
    "\n",
    "**Ans:** The Differences are as follows:\n",
    "\n",
    "The **range(10)** call range from 0 to 9 (but not include 10)\n",
    "\n",
    "The **range (0,10)** explicitly tells the loop to start at 0\n",
    "\n",
    "The **range(0,10,1)** explicitly tells the loop to increase the variable by 1 on each iteration"
   ]
  },
  {
   "cell_type": "markdown",
   "id": "25bffc0d",
   "metadata": {},
   "source": [
    "## *12. Write a short program that prints the numbers 1 to 10 using a for loop. Then write an equivalent program that prints the numbers 1 to 10 using a while loop.*\n"
   ]
  },
  {
   "cell_type": "code",
   "execution_count": 21,
   "id": "64504cec",
   "metadata": {},
   "outputs": [
    {
     "name": "stdout",
     "output_type": "stream",
     "text": [
      "---------- Using For Loop ----------\n",
      "1 2 3 4 5 6 7 8 9 10 \n",
      "\n",
      "---------- Using While Loop ----------\n",
      "1 2 3 4 5 6 7 8 9 10 "
     ]
    }
   ],
   "source": [
    "print('-'*10,'Using For Loop','-'*10)\n",
    "for a in range(1,11):\n",
    "    print(a, end=\" \")\n",
    "print('\\n')\n",
    "print('-'*10,'Using While Loop','-'*10) \n",
    "a=1\n",
    "while a<=10:\n",
    "    print(a, end=\" \")\n",
    "    a+=1"
   ]
  },
  {
   "cell_type": "markdown",
   "id": "2422f57d",
   "metadata": {},
   "source": [
    "## *13. If you had a function named bacon() inside a module named spam, how would you call it after importing spam?*\n",
    "\n",
    "**Ans:** **This function can be called with `spam.bacon()`*"
   ]
  }
 ],
 "metadata": {
  "kernelspec": {
   "display_name": "Python 3 (ipykernel)",
   "language": "python",
   "name": "python3"
  },
  "language_info": {
   "codemirror_mode": {
    "name": "ipython",
    "version": 3
   },
   "file_extension": ".py",
   "mimetype": "text/x-python",
   "name": "python",
   "nbconvert_exporter": "python",
   "pygments_lexer": "ipython3",
   "version": "3.9.7"
  }
 },
 "nbformat": 4,
 "nbformat_minor": 5
}
