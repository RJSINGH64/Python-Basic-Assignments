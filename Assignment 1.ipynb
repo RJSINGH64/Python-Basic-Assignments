{
 "cells": [
  {
   "cell_type": "markdown",
   "id": "1e78c149",
   "metadata": {},
   "source": [
    " ## *1. In the below elements which of them are values or an expression? eg:- values can be integer or string and expressions will be mathematical operators.*\n",
    "* \n",
    "'hello'\n",
    "-87.8\n",
    "- \n",
    "/ \n",
    " + \n",
    "6 \n",
    "\n",
    "**Ans:**  There are Total 4 Operators and 3 Expressions\n",
    "\n",
    "**Operataor:** `+`,`-`,`*`,`/`\n",
    "\n",
    "**Expression:** `'hello'`,`87.8`,`6`"
   ]
  },
  {
   "cell_type": "markdown",
   "id": "81bd0bf1",
   "metadata": {},
   "source": [
    "## *2. What is the difference between string and variable?*\n",
    "\n",
    "**Ans:** A `Variable` is used to store of Informations. While `String` is a type of Information store in Variable. String is Group of Characters and Single Character enclosed in Double quotes `\"\"` or Single quotes `''`\n"
   ]
  },
  {
   "cell_type": "markdown",
   "id": "db80864e",
   "metadata": {},
   "source": [
    "## *3. Describe three different data types.*\n",
    "\n",
    "**Ans:** Three Data types are `Int`,`Float` and `Complex`.\n",
    "\n",
    "**Int(Integer):** It is used to Represent the Whole Numbers(Integral values)\n",
    "\n",
    "**Float:** It is used to Represent the Floating point Values(Decimal values)\n",
    "\n",
    "**Complex:** It is used to Represented by Complex Class.It is specified as (real part)+(Imaginary part)j."
   ]
  },
  {
   "cell_type": "code",
   "execution_count": 8,
   "id": "de189a7f",
   "metadata": {},
   "outputs": [
    {
     "name": "stdout",
     "output_type": "stream",
     "text": [
      "3456 <class 'int'>\n"
     ]
    }
   ],
   "source": [
    "# Example of int data type\n",
    "s=3456\n",
    "print(s, type(s))"
   ]
  },
  {
   "cell_type": "code",
   "execution_count": 9,
   "id": "7434f573",
   "metadata": {},
   "outputs": [
    {
     "name": "stdout",
     "output_type": "stream",
     "text": [
      "456.67 <class 'float'>\n"
     ]
    }
   ],
   "source": [
    "#Example of Float data type\n",
    "float_num= 456.67\n",
    "print(float_num, type(float_num))"
   ]
  },
  {
   "cell_type": "code",
   "execution_count": 10,
   "id": "d87a43e4",
   "metadata": {},
   "outputs": [
    {
     "name": "stdout",
     "output_type": "stream",
     "text": [
      "(1+7j) <class 'complex'>\n"
     ]
    }
   ],
   "source": [
    "#Example of Complex data type\n",
    "com_num=1+7j\n",
    "print(com_num, type (com_num))"
   ]
  },
  {
   "cell_type": "markdown",
   "id": "cb0993bc",
   "metadata": {},
   "source": [
    "## *4. What is an expression made up of? What do all expressions do?*\n",
    "**Ans:** An Expression is Combination of Values, operators, Variables and calls to funtions.Expression need to be evaluated.If we ask python to print Expression ,the interpreter evaluate the expression and display the result. "
   ]
  },
  {
   "cell_type": "code",
   "execution_count": 14,
   "id": "2a23a3b8",
   "metadata": {},
   "outputs": [
    {
     "data": {
      "text/plain": [
       "0"
      ]
     },
     "execution_count": 14,
     "metadata": {},
     "output_type": "execute_result"
    }
   ],
   "source": [
    "# Example of Expression\n",
    "4*4+24-40 # Is a Expression"
   ]
  },
  {
   "cell_type": "markdown",
   "id": "095db192",
   "metadata": {},
   "source": [
    "## *5. This assignment statements, like spam = 10. What is the difference between an expression and a statement?*\n",
    "\n",
    "**Ans:** `Expression` is Combination of  values, Variable, Operator and calls to functions. When we type an expression in Python, The Interpreter Executes it and Find the Value of Expression\n",
    " \n",
    " **Ex:** 4*4+24-40 Is an Example of Expression\n",
    " \n",
    " `Statement` It is a Unit of code that has an Effect, for creating Variable and display Value. When we type Statement the interpreter Executes it, which means that it does whatever the statement says.In general, statement don't have values.\n",
    " \n",
    " **Ex:** Variable Declaration and assignment are statement they don't return a value"
   ]
  },
  {
   "cell_type": "code",
   "execution_count": 21,
   "id": "d62db2ba",
   "metadata": {},
   "outputs": [
    {
     "data": {
      "text/plain": [
       "0"
      ]
     },
     "execution_count": 21,
     "metadata": {},
     "output_type": "execute_result"
    }
   ],
   "source": [
    "4*4+24-40 #Is an Expression\n"
   ]
  },
  {
   "cell_type": "code",
   "execution_count": 27,
   "id": "bb32ffc1",
   "metadata": {},
   "outputs": [
    {
     "name": "stdout",
     "output_type": "stream",
     "text": [
      "hello RJ!\n"
     ]
    }
   ],
   "source": [
    "print('hello RJ!')# Is an Statement"
   ]
  },
  {
   "cell_type": "markdown",
   "id": "011af0ed",
   "metadata": {},
   "source": [
    "## *6. After running the following code, what does the variable bacon contain?*\n",
    "\n",
    "`bacon = 22`\n",
    "`bacon + 1`\n",
    "\n",
    "**Ans:** The Variable `bacon` set to `22`. The expression `becon + 1` does not reassign the value to `becon`.If the Expression is set to `becon=becon  + 1` instead of `becon + 1`"
   ]
  },
  {
   "cell_type": "code",
   "execution_count": 32,
   "id": "100d94ec",
   "metadata": {},
   "outputs": [
    {
     "name": "stdout",
     "output_type": "stream",
     "text": [
      "22\n"
     ]
    }
   ],
   "source": [
    "#Example of Case #1\n",
    "becon=22\n",
    "print(becon)"
   ]
  },
  {
   "cell_type": "code",
   "execution_count": 34,
   "id": "3dea2a4d",
   "metadata": {},
   "outputs": [
    {
     "name": "stdout",
     "output_type": "stream",
     "text": [
      "23\n"
     ]
    }
   ],
   "source": [
    "#Example of Case #2\n",
    "becon=22\n",
    "becon=becon + 1\n",
    "print(becon)"
   ]
  },
  {
   "cell_type": "markdown",
   "id": "227845ff",
   "metadata": {},
   "source": [
    "## *7. What should the values of the following two terms be?*\n",
    "\n",
    "`'spam' + 'spamspam'`\n",
    "\n",
    "`'spam' * 3`\n",
    "\n",
    "**Ans:** Both Expression evaluated to the string.\n",
    "\n",
    "`'spam' + 'spamspam'` This First Expression follows `String Concatentation` and second Expression `'spam' *3` follows `String Multiplication`"
   ]
  },
  {
   "cell_type": "code",
   "execution_count": 37,
   "id": "4eebcaa7",
   "metadata": {},
   "outputs": [
    {
     "name": "stdout",
     "output_type": "stream",
     "text": [
      "spamspamspam\n",
      "spamspamspam\n"
     ]
    }
   ],
   "source": [
    "#Example \n",
    "print('spam' + 'spamspam') # string concatentation\n",
    "print('spam' * 3) # string multiplication"
   ]
  },
  {
   "cell_type": "markdown",
   "id": "86550cf4",
   "metadata": {},
   "source": [
    "\n",
    "## *8. Why is eggs a valid variable name while 100 is invalid?*\n",
    " \n",
    "**Ans:** In a python a variable cannot start with a Number.\n",
    "***Rule for naming Variable are as follows:***\n",
    "1.Variable Start with letter or Underscore.\n",
    "2.Variable name must be Alpha numeric characters and Underscores(A-Z,0-9 & - )\n",
    "3.In python Variable are case sensitive.(Ex:- `python` and `PYTHON`  these are different variables )\n",
    "4.Reserved Words Keyword cannot be used naming variable "
   ]
  },
  {
   "cell_type": "code",
   "execution_count": 64,
   "id": "d0c63989",
   "metadata": {},
   "outputs": [
    {
     "name": "stdout",
     "output_type": "stream",
     "text": [
      "PYTHON\n"
     ]
    }
   ],
   "source": [
    "#Exampleof Valid variable :-\n",
    "\n",
    "R='PYTHON' #valid variable \n",
    "print(R)\n",
    "    \n",
    "    \n",
    "    "
   ]
  },
  {
   "cell_type": "code",
   "execution_count": 61,
   "id": "37ef9e52",
   "metadata": {},
   "outputs": [
    {
     "ename": "SyntaxError",
     "evalue": "cannot assign to literal (4132600590.py, line 3)",
     "output_type": "error",
     "traceback": [
      "\u001b[0;36m  Cell \u001b[0;32mIn[61], line 3\u001b[0;36m\u001b[0m\n\u001b[0;31m    50='python' # Invalid Variable name\u001b[0m\n\u001b[0m    ^\u001b[0m\n\u001b[0;31mSyntaxError\u001b[0m\u001b[0;31m:\u001b[0m cannot assign to literal\n"
     ]
    }
   ],
   "source": [
    "#Example of Invalid variable:-\n",
    "\n",
    "50='python' # Invalid Variable name \n",
    "print(50) \n"
   ]
  },
  {
   "cell_type": "markdown",
   "id": "63b8dd71",
   "metadata": {},
   "source": [
    "## *9. What three functions can be used to get the integer, floating-point number, or string version of a value?*\n",
    "\n",
    "**Ans:** The `int()`, `float()` and `str()` funtion will evaluated to the integer,Floating-point number, or string version of the value passed to them."
   ]
  },
  {
   "cell_type": "code",
   "execution_count": 60,
   "id": "f2277773",
   "metadata": {},
   "outputs": [
    {
     "name": "stdout",
     "output_type": "stream",
     "text": [
      "int(2.0) -> 2\n",
      "float(2) -> 2.0\n",
      "str(2) -> 2\n"
     ]
    }
   ],
   "source": [
    "#Example \n",
    "\n",
    "print('int(2.0) ->', int(2))\n",
    "print('float(2) ->', float(2))\n",
    "print('str(2) ->', str(2))"
   ]
  },
  {
   "cell_type": "markdown",
   "id": "71ffad73",
   "metadata": {},
   "source": [
    "## *10. Why does this expression cause an error? How can you fix it?*\n",
    "\n",
    "`'I have eaten ' + 99 + ' burritos.'`\n",
    "\n",
    "**Ans:** The cause of error is 99.Because 99 is not a string.99 should typecasted to a string to fix this Error\n",
    "The correct way is :-\n",
    "\n",
    "***Input:-***  `'I have eaten ' + str(99) + ' burritos.'`\n",
    "\n"
   ]
  },
  {
   "cell_type": "code",
   "execution_count": 66,
   "id": "f150e050",
   "metadata": {},
   "outputs": [
    {
     "name": "stdout",
     "output_type": "stream",
     "text": [
      " I have eaten 99 burritos.\n"
     ]
    }
   ],
   "source": [
    "print(' I have eaten ' + str(99) + ' burritos.')"
   ]
  }
 ],
 "metadata": {
  "kernelspec": {
   "display_name": "Python 3 (ipykernel)",
   "language": "python",
   "name": "python3"
  },
  "language_info": {
   "codemirror_mode": {
    "name": "ipython",
    "version": 3
   },
   "file_extension": ".py",
   "mimetype": "text/x-python",
   "name": "python",
   "nbconvert_exporter": "python",
   "pygments_lexer": "ipython3",
   "version": "3.9.7"
  }
 },
 "nbformat": 4,
 "nbformat_minor": 5
}
